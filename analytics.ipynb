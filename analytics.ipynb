{
 "cells": [
  {
   "cell_type": "code",
   "execution_count": 1,
   "metadata": {},
   "outputs": [],
   "source": [
    "%load_ext sql"
   ]
  },
  {
   "cell_type": "code",
   "execution_count": 10,
   "metadata": {},
   "outputs": [],
   "source": [
    "import configparser\n",
    "import matplotlib.pyplot as plt\n",
    "import pandas as pd\n",
    "import sqlalchemy as sa"
   ]
  },
  {
   "cell_type": "code",
   "execution_count": 5,
   "metadata": {},
   "outputs": [],
   "source": [
    "config = configparser.ConfigParser()\n",
    "config.read_file(open('dwh.cfg'))\n",
    "\n",
    "DWH_DB= config.get(\"DWH\",\"DWH_DB\")\n",
    "DWH_DB_USER= config.get(\"DWH\",\"DWH_DB_USER\")\n",
    "DWH_DB_PASSWORD= config.get(\"DWH\",\"DWH_DB_PASSWORD\")\n",
    "DWH_PORT = config.get(\"DWH\",\"DWH_PORT\")\n",
    "DWH_ENDPOINT = config.get(\"DWH\",\"DWH_ENDPOINT\")"
   ]
  },
  {
   "cell_type": "code",
   "execution_count": 24,
   "metadata": {},
   "outputs": [
    {
     "data": {
      "text/plain": [
       "'Connected: awsuser@dev'"
      ]
     },
     "execution_count": 24,
     "metadata": {},
     "output_type": "execute_result"
    }
   ],
   "source": [
    "conn_string=\"postgresql://{}:{}@{}:{}/{}\".format(DWH_DB_USER, DWH_DB_PASSWORD, DWH_ENDPOINT, DWH_PORT,DWH_DB)\n",
    "%sql $conn_string"
   ]
  },
  {
   "cell_type": "code",
   "execution_count": 11,
   "metadata": {},
   "outputs": [],
   "source": [
    "engine = sa.create_engine(conn_string)"
   ]
  },
  {
   "cell_type": "code",
   "execution_count": 21,
   "metadata": {},
   "outputs": [],
   "source": [
    "stmt = \"\"\"\n",
    "-- top artists\n",
    "select a.name,\n",
    "       count(*) num\n",
    "from songplays\n",
    "         join artists a on songplays.artist_id = a.artist_id\n",
    "         join songs s on songplays.song_id = s.song_id\n",
    "group by a.name\n",
    "order by num desc\n",
    "limit 10;\n",
    "\"\"\""
   ]
  },
  {
   "cell_type": "code",
   "execution_count": 22,
   "metadata": {},
   "outputs": [],
   "source": [
    "with engine.connect() as con:\n",
    "    df = pd.read_sql(stmt, con)"
   ]
  },
  {
   "cell_type": "code",
   "execution_count": 23,
   "metadata": {},
   "outputs": [
    {
     "data": {
      "text/html": [
       "<div>\n",
       "<style scoped>\n",
       "    .dataframe tbody tr th:only-of-type {\n",
       "        vertical-align: middle;\n",
       "    }\n",
       "\n",
       "    .dataframe tbody tr th {\n",
       "        vertical-align: top;\n",
       "    }\n",
       "\n",
       "    .dataframe thead th {\n",
       "        text-align: right;\n",
       "    }\n",
       "</style>\n",
       "<table border=\"1\" class=\"dataframe\">\n",
       "  <thead>\n",
       "    <tr style=\"text-align: right;\">\n",
       "      <th></th>\n",
       "      <th>name</th>\n",
       "      <th>num</th>\n",
       "    </tr>\n",
       "  </thead>\n",
       "  <tbody>\n",
       "    <tr>\n",
       "      <th>0</th>\n",
       "      <td>Dwight Yoakam</td>\n",
       "      <td>37</td>\n",
       "    </tr>\n",
       "    <tr>\n",
       "      <th>1</th>\n",
       "      <td>Kid Cudi / Kanye West / Common</td>\n",
       "      <td>10</td>\n",
       "    </tr>\n",
       "    <tr>\n",
       "      <th>2</th>\n",
       "      <td>Kid Cudi</td>\n",
       "      <td>10</td>\n",
       "    </tr>\n",
       "    <tr>\n",
       "      <th>3</th>\n",
       "      <td>Ron Carter</td>\n",
       "      <td>9</td>\n",
       "    </tr>\n",
       "    <tr>\n",
       "      <th>4</th>\n",
       "      <td>Lonnie Gordon</td>\n",
       "      <td>9</td>\n",
       "    </tr>\n",
       "    <tr>\n",
       "      <th>5</th>\n",
       "      <td>B.o.B</td>\n",
       "      <td>8</td>\n",
       "    </tr>\n",
       "    <tr>\n",
       "      <th>6</th>\n",
       "      <td>Usher</td>\n",
       "      <td>6</td>\n",
       "    </tr>\n",
       "    <tr>\n",
       "      <th>7</th>\n",
       "      <td>Muse</td>\n",
       "      <td>6</td>\n",
       "    </tr>\n",
       "    <tr>\n",
       "      <th>8</th>\n",
       "      <td>Usher featuring Jermaine Dupri</td>\n",
       "      <td>6</td>\n",
       "    </tr>\n",
       "    <tr>\n",
       "      <th>9</th>\n",
       "      <td>Richard Hawley And Death Ramps_ Arctic Monkeys</td>\n",
       "      <td>5</td>\n",
       "    </tr>\n",
       "  </tbody>\n",
       "</table>\n",
       "</div>"
      ],
      "text/plain": [
       "                                             name  num\n",
       "0                                   Dwight Yoakam   37\n",
       "1                  Kid Cudi / Kanye West / Common   10\n",
       "2                                        Kid Cudi   10\n",
       "3                                      Ron Carter    9\n",
       "4                                   Lonnie Gordon    9\n",
       "5                                           B.o.B    8\n",
       "6                                           Usher    6\n",
       "7                                            Muse    6\n",
       "8                  Usher featuring Jermaine Dupri    6\n",
       "9  Richard Hawley And Death Ramps_ Arctic Monkeys    5"
      ]
     },
     "execution_count": 23,
     "metadata": {},
     "output_type": "execute_result"
    }
   ],
   "source": [
    "df"
   ]
  },
  {
   "cell_type": "code",
   "execution_count": null,
   "metadata": {},
   "outputs": [],
   "source": []
  },
  {
   "cell_type": "code",
   "execution_count": null,
   "metadata": {},
   "outputs": [],
   "source": []
  },
  {
   "cell_type": "code",
   "execution_count": 7,
   "metadata": {},
   "outputs": [],
   "source": [
    "# %load analytics.py\n",
    "-- analytics\n",
    "\n",
    "-- time\n",
    "select t.weekday,\n",
    "       u.level,\n",
    "       u.gender,\n",
    "       count(*) num\n",
    "from songplays\n",
    "         join times t on songplays.start_time = t.start_time\n",
    "         join users u on songplays.user_id = u.user_id\n",
    "where t.year = 2018\n",
    "group by t.weekday, u.level, u.level, u.gender\n",
    "order by t.weekday, u.level, u.level, u.gender;\n",
    "\n",
    "-- level and gender\n",
    "select users.level,\n",
    "       users.gender,\n",
    "       count(*) num\n",
    "from songplays\n",
    "         join users on songplays.user_id = users.user_id\n",
    "group by users.level, users.gender\n",
    "order by num desc;\n",
    "\n",
    "\n",
    "-- top users\n",
    "select users.first_name,\n",
    "       users.last_name,\n",
    "       count(*) num\n",
    "from songplays\n",
    "         join users on songplays.user_id = users.user_id\n",
    "group by users.user_id, users.first_name, users.last_name\n",
    "order by num desc\n",
    "limit 10;\n",
    "\n",
    "-- top song titles\n",
    "select s.title,\n",
    "       count(*) num\n",
    "from songplays\n",
    "         join artists a on songplays.artist_id = a.artist_id\n",
    "         join songs s on songplays.song_id = s.song_id\n",
    "group by s.title\n",
    "order by num desc\n",
    "limit 10;\n",
    "\n",
    "-- top artists\n",
    "select a.name,\n",
    "       count(*) num\n",
    "from songplays\n",
    "         join artists a on songplays.artist_id = a.artist_id\n",
    "         join songs s on songplays.song_id = s.song_id\n",
    "group by a.name\n",
    "order by num desc;\n"
   ]
  },
  {
   "cell_type": "code",
   "execution_count": null,
   "metadata": {},
   "outputs": [],
   "source": []
  }
 ],
 "metadata": {
  "kernelspec": {
   "display_name": "Python 3",
   "language": "python",
   "name": "python3"
  },
  "language_info": {
   "codemirror_mode": {
    "name": "ipython",
    "version": 3
   },
   "file_extension": ".py",
   "mimetype": "text/x-python",
   "name": "python",
   "nbconvert_exporter": "python",
   "pygments_lexer": "ipython3",
   "version": "3.8.2"
  }
 },
 "nbformat": 4,
 "nbformat_minor": 4
}
